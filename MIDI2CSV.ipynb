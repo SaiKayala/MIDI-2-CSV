{
 "cells": [
  {
   "cell_type": "code",
   "execution_count": null,
   "metadata": {},
   "outputs": [],
   "source": [
    "import pandas as pd\n",
    "import numpy as np\n",
    "import glob\n",
    "from music21 import converter, instrument, note, chord,stream"
   ]
  },
  {
   "cell_type": "code",
   "execution_count": null,
   "metadata": {},
   "outputs": [],
   "source": [
    "songs=glob.glob('./Jazz Midi/*.mid')"
   ]
  },
  {
   "cell_type": "code",
   "execution_count": null,
   "metadata": {},
   "outputs": [],
   "source": [
    "def GetNotes(file):\n",
    "    notes=[]\n",
    "    midi=converter.parse(file)\n",
    "    notes_to_parse=[]\n",
    "    try:\n",
    "        parts=instrument.partitionByInstrument(midi)\n",
    "    except:\n",
    "        pass\n",
    "    if parts:\n",
    "        notes_to_parse=parts.parts[0].recurse()\n",
    "    else:\n",
    "        notes_to_parse=midi.flat.notes\n",
    "    for element in notes_to_parse:\n",
    "        if isinstance(element, note.Note):\n",
    "            notes.append(str(element.pitch))\n",
    "        elif(isinstance(element, chord.Chord)):\n",
    "            notes.append('.'.join(str(n)for n in element.normalOrder))\n",
    "    return notes"
   ]
  },
  {
   "cell_type": "code",
   "execution_count": null,
   "metadata": {},
   "outputs": [],
   "source": [
    "df= pd.DataFrame(data=None,index=None,columns=['Name','Notes','Len_Sequence','Unique_notes','len_Uni_Notes'])"
   ]
  },
  {
   "cell_type": "code",
   "execution_count": null,
   "metadata": {},
   "outputs": [],
   "source": [
    "names=[]\n",
    "notes=[]\n",
    "len_seq=[]\n",
    "uni_notes=[]\n",
    "no_notes=[]\n",
    "for file in songs: \n",
    "    temp=GetNotes(file)\n",
    "    #For linux version\n",
    "    names.append(str(file).split('\\')[2])\n",
    "    #For windows\n",
    "    #names.append(str(file).split('/')[1].split('\\\\')[1])\n",
    "    notes.append(temp)\n",
    "    len_seq.append(len(temp))\n",
    "    uni_notes.append(set(temp))\n",
    "    no_notes.append(len(set(temp)))"
   ]
  },
  {
   "cell_type": "code",
   "execution_count": null,
   "metadata": {},
   "outputs": [],
   "source": [
    "df['Name']=names\n",
    "df['Notes']=notes\n",
    "df['Len_Sequence']=len_seq\n",
    "df['Unique_notes']=uni_notes\n",
    "df['len_Uni_Notes']=no_notes"
   ]
  },
  {
   "cell_type": "code",
   "execution_count": null,
   "metadata": {},
   "outputs": [],
   "source": [
    "a=df.ix[df['Len_Sequence']==0].index"
   ]
  },
  {
   "cell_type": "code",
   "execution_count": null,
   "metadata": {},
   "outputs": [],
   "source": [
    "df.drop(df.index[a],inplace=True)"
   ]
  },
  {
   "cell_type": "code",
   "execution_count": null,
   "metadata": {},
   "outputs": [],
   "source": [
    "df.to_csv('Jazz-midi.csv')"
   ]
  },
  {
   "cell_type": "code",
   "execution_count": null,
   "metadata": {},
   "outputs": [],
   "source": [
    "data=pd.read_csv('Jazz-midi.csv')"
   ]
  }
 ],
 "metadata": {
  "kernelspec": {
   "display_name": "Python 3",
   "language": "python",
   "name": "python3"
  },
  "language_info": {
   "codemirror_mode": {
    "name": "ipython",
    "version": 3
   },
   "file_extension": ".py",
   "mimetype": "text/x-python",
   "name": "python",
   "nbconvert_exporter": "python",
   "pygments_lexer": "ipython3",
   "version": "3.7.3"
  }
 },
 "nbformat": 4,
 "nbformat_minor": 2
}
